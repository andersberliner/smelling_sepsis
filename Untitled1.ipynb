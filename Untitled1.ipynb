{
 "cells": [
  {
   "cell_type": "code",
   "execution_count": 1,
   "metadata": {
    "collapsed": false
   },
   "outputs": [
    {
     "name": "stderr",
     "output_type": "stream",
     "text": [
      "//anaconda/lib/python2.7/site-packages/matplotlib/__init__.py:872: UserWarning: axes.color_cycle is deprecated and replaced with axes.prop_cycle; please use the latter.\n",
      "  warnings.warn(self.msg_depr % (key, alt_key))\n"
     ]
    }
   ],
   "source": [
    "## Interpretting Trigger Data ##\n",
    "import pickle\n",
    "import matplotlib.pyplot as plt\n",
    "import numpy as np\n",
    "import pandas as pd\n",
    "import seaborn as sns\n",
    "%matplotlib inline"
   ]
  },
  {
   "cell_type": "code",
   "execution_count": 2,
   "metadata": {
    "collapsed": true
   },
   "outputs": [],
   "source": [
    "with open('run200/sm', 'rb') as f:\n",
    "    sm = pickle.load(f)"
   ]
  },
  {
   "cell_type": "code",
   "execution_count": 7,
   "metadata": {
    "collapsed": false
   },
   "outputs": [],
   "source": [
    "with open('run200/trigger_feature_times_t_30.pkl', 'rb') as f:\n",
    "    df30 = pickle.load(f)"
   ]
  },
  {
   "cell_type": "code",
   "execution_count": 9,
   "metadata": {
    "collapsed": false
   },
   "outputs": [
    {
     "data": {
      "text/plain": [
       "(1078, 12)"
      ]
     },
     "execution_count": 9,
     "metadata": {},
     "output_type": "execute_result"
    }
   ],
   "source": [
    "# 1078 trials X 6 spots X max(abs) first and second derivative\n",
    "df30.shape"
   ]
  },
  {
   "cell_type": "code",
   "execution_count": 10,
   "metadata": {
    "collapsed": false
   },
   "outputs": [
    {
     "data": {
      "text/plain": [
       "(1078, 12)"
      ]
     },
     "execution_count": 10,
     "metadata": {},
     "output_type": "execute_result"
    }
   ],
   "source": [
    "with open('run200/trigger_features_t_30.pkl', 'rb') as f:\n",
    "    dff30 = pickle.load(f)\n",
    "dff30.shape"
   ]
  },
  {
   "cell_type": "code",
   "execution_count": 11,
   "metadata": {
    "collapsed": false
   },
   "outputs": [
    {
     "data": {
      "text/plain": [
       "array([[ 560.,  580.,  560., ...,  540.,  580.,  300.],\n",
       "       [ 580.,  580.,  560., ...,  580.,  560.,  580.],\n",
       "       [ 220.,  500.,  340., ...,  580.,  580.,  580.],\n",
       "       ..., \n",
       "       [ 420.,  300.,  220., ...,  580.,  580.,  580.],\n",
       "       [ 580.,  280.,  300., ...,  580.,  400.,  580.],\n",
       "       [ 340.,  200.,  420., ...,  580.,  180.,  460.]])"
      ]
     },
     "execution_count": 11,
     "metadata": {},
     "output_type": "execute_result"
    }
   ],
   "source": [
    "# find earliest trigger time at each timeplot\n",
    "# plot the corresponding value as well as the earliest trigger time versus time\n",
    "\n",
    "for t in [30,40,50]:\n",
    "    with open('run200/trigger_feature_times_t_%d.pkl' % d) as f:\n",
    "        df = pickle.load(f)"
   ]
  },
  {
   "cell_type": "code",
   "execution_count": 12,
   "metadata": {
    "collapsed": false
   },
   "outputs": [
    {
     "data": {
      "text/plain": [
       "array([[ 0.57051584,  0.02481622,  2.16111662, ...,  0.0689519 ,\n",
       "         0.80193857,  0.04918773],\n",
       "       [ 3.97840052,  0.42069417,  1.6104676 , ...,  0.04182448,\n",
       "         1.28430061,  0.13701006],\n",
       "       [ 0.65890655,  0.05936494,  0.36938142, ...,  0.10013487,\n",
       "         0.53721041,  0.13660508],\n",
       "       ..., \n",
       "       [ 0.27879025,  0.0230731 ,  0.34054774, ...,  0.07509277,\n",
       "         0.31627409,  0.02531046],\n",
       "       [ 0.61725544,  0.03382028,  0.22002923, ...,  0.02602941,\n",
       "         1.06388154,  0.12886135],\n",
       "       [ 0.44116527,  0.06426792,  0.29587701, ...,  0.01799138,\n",
       "         0.33353074,  0.01860429]])"
      ]
     },
     "execution_count": 12,
     "metadata": {},
     "output_type": "execute_result"
    }
   ],
   "source": [
    "dff30"
   ]
  },
  {
   "cell_type": "code",
   "execution_count": null,
   "metadata": {
    "collapsed": true
   },
   "outputs": [],
   "source": []
  }
 ],
 "metadata": {
  "kernelspec": {
   "display_name": "Python 2",
   "language": "python",
   "name": "python2"
  },
  "language_info": {
   "codemirror_mode": {
    "name": "ipython",
    "version": 2
   },
   "file_extension": ".py",
   "mimetype": "text/x-python",
   "name": "python",
   "nbconvert_exporter": "python",
   "pygments_lexer": "ipython2",
   "version": "2.7.11"
  }
 },
 "nbformat": 4,
 "nbformat_minor": 0
}
