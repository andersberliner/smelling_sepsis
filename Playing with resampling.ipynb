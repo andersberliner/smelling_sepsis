{
 "cells": [
  {
   "cell_type": "code",
   "execution_count": 63,
   "metadata": {
    "collapsed": false
   },
   "outputs": [
    {
     "name": "stdout",
     "output_type": "stream",
     "text": [
      "Taking derivatives of trial 0\n",
      "Taking derivatives of trial 100\n",
      "Taking derivatives of trial 200\n",
      "Taking derivatives of trial 300\n",
      "Taking derivatives of trial 400\n",
      "Taking derivatives of trial 500\n",
      "Taking derivatives of trial 600\n",
      "Taking derivatives of trial 700\n",
      "Taking derivatives of trial 800\n",
      "Taking derivatives of trial 900\n",
      "Taking derivatives of trial 1000\n",
      "Regressed 1078 trials in 209 seconds\n"
     ]
    }
   ],
   "source": [
    "import pickle\n",
    "\n",
    "import matplotlib.pyplot as plt\n",
    "%matplotlib inline\n",
    "with open('pickles/DI.pkl', 'rb') as f:\n",
    "    DI = pickle.load(f)\n",
    "\n",
    "# DI = DI.iloc[0:100]\n",
    "\n",
    "with open('pickles/ydf.pkl', 'rb') as f:\n",
    "    y = pickle.load(f)\n",
    "    \n",
    "with open('pickles/used_column_headers.pkl', 'rb') as f:\n",
    "    ch = pickle.load(f)\n",
    "\n",
    "from featurizer import DerivativeFeaturizer\n",
    "from tsm import TriggeredSeriesModel\n",
    "\n",
    "ts = TriggeredSeriesModel(ch)\n",
    "\n",
    "DI = ts._subset_data(DI, 60)\n",
    "\n",
    "d = DerivativeFeaturizer(order=1, dx=20.0, reference_time=9, maxmin=True, verbose=True, gauss=True)\n",
    "X, tp = d.fit_transform(DI)"
   ]
  },
  {
   "cell_type": "code",
   "execution_count": 72,
   "metadata": {
    "collapsed": false
   },
   "outputs": [
    {
     "name": "stdout",
     "output_type": "stream",
     "text": [
      "(1078, 219) (1078,)\n"
     ]
    }
   ],
   "source": [
    "npX = ts._pandas_to_numpy(X)\n",
    "npy = y['detection'].values\n",
    "print npX.shape, npy.shape"
   ]
  },
  {
   "cell_type": "code",
   "execution_count": 74,
   "metadata": {
    "collapsed": false
   },
   "outputs": [
    {
     "data": {
      "text/html": [
       "<div>\n",
       "<table border=\"1\" class=\"dataframe\">\n",
       "  <thead>\n",
       "    <tr style=\"text-align: right;\">\n",
       "      <th></th>\n",
       "      <th>classification</th>\n",
       "      <th>gram</th>\n",
       "    </tr>\n",
       "    <tr>\n",
       "      <th>detection</th>\n",
       "      <th></th>\n",
       "      <th></th>\n",
       "    </tr>\n",
       "  </thead>\n",
       "  <tbody>\n",
       "    <tr>\n",
       "      <th>0</th>\n",
       "      <td>99</td>\n",
       "      <td>99</td>\n",
       "    </tr>\n",
       "    <tr>\n",
       "      <th>1</th>\n",
       "      <td>979</td>\n",
       "      <td>979</td>\n",
       "    </tr>\n",
       "  </tbody>\n",
       "</table>\n",
       "</div>"
      ],
      "text/plain": [
       "           classification  gram\n",
       "detection                      \n",
       "0                      99    99\n",
       "1                     979   979"
      ]
     },
     "execution_count": 74,
     "metadata": {},
     "output_type": "execute_result"
    }
   ],
   "source": [
    "from unbalanced_dataset import UnderSampler, SMOTE\n",
    "\n",
    "y.groupby('detection').count()\n",
    "# type(smoy)"
   ]
  },
  {
   "cell_type": "code",
   "execution_count": 73,
   "metadata": {
    "collapsed": false
   },
   "outputs": [
    {
     "name": "stdout",
     "output_type": "stream",
     "text": [
      "0.0 979.0\n",
      "1089 99\n",
      "979 979\n"
     ]
    }
   ],
   "source": [
    "smote = SMOTE(ratio=10, kind='regular')\n",
    "smox, smoy = smote.fit_transform(npX, npy)\n",
    "print np.sum(smoy[1078:]), np.sum(smoy[:1078])\n",
    "print np.sum(smoy==0), np.sum(npy==0)\n",
    "print np.sum(smoy==1), np.sum(npy==1)"
   ]
  },
  {
   "cell_type": "code",
   "execution_count": 67,
   "metadata": {
    "collapsed": false
   },
   "outputs": [
    {
     "name": "stdout",
     "output_type": "stream",
     "text": [
      "  classification  detection     gram  synthetic\n",
      "0        Control          0  Control          1\n",
      "1        Control          0  Control          1\n",
      "2        Control          0  Control          1\n",
      "3        Control          0  Control          1\n",
      "4        Control          0  Control          1\n",
      "             classification gram  detection\n",
      "1215  Staphylococcus_aureus    p          1\n",
      "1216  Staphylococcus_aureus    p          1\n",
      "1217  Staphylococcus_aureus    p          1\n",
      "1218  Staphylococcus_aureus    p          1\n",
      "1219  Staphylococcus_aureus    p          1\n",
      "1220  Staphylococcus_aureus    p          1\n",
      "1221  Staphylococcus_aureus    p          1\n",
      "1222  Staphylococcus_aureus    p          1\n",
      "1223  Staphylococcus_aureus    p          1\n",
      "1224  Staphylococcus_aureus    p          1\n",
      "1225  Staphylococcus_aureus    p          1\n",
      "1226  Staphylococcus_aureus    p          1\n",
      "1227  Staphylococcus_aureus    p          1\n",
      "1228  Staphylococcus_aureus    p          1\n",
      "1229  Staphylococcus_aureus    p          1\n",
      "1230  Staphylococcus_aureus    p          1\n",
      "1231  Staphylococcus_aureus    p          1\n",
      "1232  Staphylococcus_aureus    p          1\n",
      "1233  Staphylococcus_aureus    p          1\n",
      "1234  Staphylococcus_aureus    p          1\n",
      "1235  Staphylococcus_aureus    p          1\n",
      "1236  Staphylococcus_aureus    p          1\n",
      "           classification  detection gram  synthetic\n",
      "0        Escherichia_coli          1    n          0\n",
      "1        Escherichia_coli          1    n          0\n",
      "2  Pseudomonas_aeruginosa          1    n          0\n",
      "3  Pseudomonas_aeruginosa          1    n          0\n",
      "4  Pseudomonas_aeruginosa          1    n          0\n",
      "<class 'pandas.core.frame.DataFrame'>\n",
      "Int64Index: 2068 entries, 0 to 989\n",
      "Data columns (total 4 columns):\n",
      "classification    2068 non-null object\n",
      "detection         2068 non-null float64\n",
      "gram              2068 non-null object\n",
      "synthetic         2068 non-null float64\n",
      "dtypes: float64(2), object(2)\n",
      "memory usage: 80.8+ KB\n"
     ]
    }
   ],
   "source": [
    "import pandas as pd\n",
    "sdf = pd.DataFrame({\n",
    "        'detection': smoy[len(y):], \n",
    "        'classification': ['Control']*(len(smoy[len(y):])), \n",
    "        'gram': ['Control']*(len(smoy[len(y):])),\n",
    "        'synthetic': [1]*(len(smoy[len(y):]))})\n",
    "print sdf.head()\n",
    "print y.iloc[1056:len(y)]\n",
    "newdf = pd.concat([y, sdf])\n",
    "newdf = newdf.fillna(0)\n",
    "print newdf.head()\n",
    "newdf.info()"
   ]
  },
  {
   "cell_type": "code",
   "execution_count": 68,
   "metadata": {
    "collapsed": false
   },
   "outputs": [
    {
     "name": "stdout",
     "output_type": "stream",
     "text": [
      "1089 99\n",
      "979 979\n"
     ]
    }
   ],
   "source": [
    "import numpy as np\n",
    "print np.sum(smoy==0), np.sum(npy==0)\n",
    "print np.sum(smoy==1), np.sum(npy==1)"
   ]
  },
  {
   "cell_type": "code",
   "execution_count": 69,
   "metadata": {
    "collapsed": false
   },
   "outputs": [
    {
     "data": {
      "text/plain": [
       "<matplotlib.legend.Legend at 0x11ee1d7d0>"
      ]
     },
     "execution_count": 69,
     "metadata": {},
     "output_type": "execute_result"
    },
    {
     "data": {
      "image/png": "[encoded data removed]",
      "text/plain": [
       "<matplotlib.figure.Figure at 0x11ed53d90>"
      ]
     },
     "metadata": {},
     "output_type": "display_data"
    }
   ],
   "source": [
    "# plot before in dimensions 1 & 2\n",
    "p1 = 1\n",
    "p2 = 5\n",
    "\n",
    "import seaborn as sns\n",
    "plt.subplot(1,2,1)\n",
    "mask = npy == 1\n",
    "plt.scatter(npX[mask,p1], npX[mask,p2], label='1', color='r', alpha=0.5)\n",
    "mask = npy == 0\n",
    "plt.scatter(npX[mask,p1], npX[mask,p2], label='0', color='b', alpha=0.5)\n",
    "plt.legend()\n",
    "\n",
    "plt.subplot(1,2,2)\n",
    "mask = smoy == 1\n",
    "plt.scatter(smox[mask,p1], smox[mask,p2], label='1', color='r', alpha=0.5)\n",
    "mask = smoy == 0\n",
    "plt.scatter(smox[mask,p1], smox[mask,p2], label='0', color='b', alpha=0.5)\n",
    "plt.legend()"
   ]
  },
  {
   "cell_type": "code",
   "execution_count": 70,
   "metadata": {
    "collapsed": false
   },
   "outputs": [
    {
     "data": {
      "text/plain": [
       "array([ 1.,  1.,  1., ...,  0.,  0.,  0.])"
      ]
     },
     "execution_count": 70,
     "metadata": {},
     "output_type": "execute_result"
    }
   ],
   "source": [
    "smoy"
   ]
  },
  {
   "cell_type": "code",
   "execution_count": 71,
   "metadata": {
    "collapsed": false
   },
   "outputs": [
    {
     "data": {
      "text/plain": [
       "[<matplotlib.lines.Line2D at 0x121d00390>]"
      ]
     },
     "execution_count": 71,
     "metadata": {},
     "output_type": "execute_result"
    },
    {
     "data": {
      "image/png": "[encoded data removed]",
      "text/plain": [
       "<matplotlib.figure.Figure at 0x11e973290>"
      ]
     },
     "metadata": {},
     "output_type": "display_data"
    }
   ],
   "source": [
    "plt.plot(range(len(smoy)), smoy, 'bo')"
   ]
  },
  {
   "cell_type": "code",
   "execution_count": null,
   "metadata": {
    "collapsed": false
   },
   "outputs": [],
   "source": []
  },
  {
   "cell_type": "code",
   "execution_count": null,
   "metadata": {
    "collapsed": true
   },
   "outputs": [],
   "source": []
  }
 ],
 "metadata": {
  "kernelspec": {
   "display_name": "Python 2",
   "language": "python",
   "name": "python2"
  },
  "language_info": {
   "codemirror_mode": {
    "name": "ipython",
    "version": 2
   },
   "file_extension": ".py",
   "mimetype": "text/x-python",
   "name": "python",
   "nbconvert_exporter": "python",
   "pygments_lexer": "ipython2",
   "version": "2.7.11"
  }
 },
 "nbformat": 4,
 "nbformat_minor": 0
}
