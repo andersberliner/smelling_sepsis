{
 "cells": [
  {
   "cell_type": "code",
   "execution_count": 1,
   "metadata": {
    "collapsed": true
   },
   "outputs": [],
   "source": [
    "import numpy as np\n",
    "import pandas as pd\n",
    "import pickle\n",
    "import time"
   ]
  },
  {
   "cell_type": "code",
   "execution_count": 8,
   "metadata": {
    "collapsed": false
   },
   "outputs": [
    {
     "name": "stdout",
     "output_type": "stream",
     "text": [
      "220\n",
      "['time' '2R' '2G' '2B' '3R' '3G' '3B' '4R' '4G' '4B' '5R' '5G' '5B' '6R'\n",
      " '6G' '6B' '7R' '7G' '7B' '8R' '8G' '8B' '9R' '9G' '9B' '11R' '11G' '11B'\n",
      " '13R' '13G' '13B' '14R' '14G' '14B' '15R' '15G' '15B' '16R' '16G' '16B'\n",
      " '17R' '17G' '17B' '18R' '18G' '18B' '20R' '20G' '20B' '21R' '21G' '21B'\n",
      " '22R' '22G' '22B' '23R' '23G' '23B' '24R' '24G' '24B' '25R' '25G' '25B'\n",
      " '26R' '26G' '26B' '27R' '27G' '27B' '28R' '28G' '28B' '29R' '29G' '29B'\n",
      " '30R' '30G' '30B' '31R' '31G' '31B' '32R' '32G' '32B' '33R' '33G' '33B'\n",
      " '34R' '34G' '34B' '35R' '35G' '35B' '36R' '36G' '36B' '37R' '37G' '37B'\n",
      " '38R' '38G' '38B' '39R' '39G' '39B' '40R' '40G' '40B' '41R' '41G' '41B'\n",
      " '42R' '42G' '42B' '43R' '43G' '43B' '44R' '44G' '44B' '45R' '45G' '45B'\n",
      " '46R' '46G' '46B' '47R' '47G' '47B' '48R' '48G' '48B' '49R' '49G' '49B'\n",
      " '50R' '50G' '50B' '51R' '51G' '51B' '52R' '52G' '52B' '53R' '53G' '53B'\n",
      " '54R' '54G' '54B' '55R' '55G' '55B' '56R' '56G' '56B' '57R' '57G' '57B'\n",
      " '58R' '58G' '58B' '59R' '59G' '59B' '60R' '60G' '60B' '61R' '61G' '61B'\n",
      " '63R' '63G' '63B' '64R' '64G' '64B' '65R' '65G' '65B' '66R' '66G' '66B'\n",
      " '67R' '67G' '67B' '68R' '68G' '68B' '69R' '69G' '69B' '70R' '70G' '70B'\n",
      " '72R' '72G' '72B' '73R' '73G' '73B' '74R' '74G' '74B' '75R' '75G' '75B'\n",
      " '76R' '76G' '76B' '77R' '77G' '77B' '78R' '78G' '78B' '79R' '79G' '79B']\n",
      "1078 (60, 220)\n"
     ]
    }
   ],
   "source": [
    "myfile = open('pickles/used_column_headers.pkl', 'rb')\n",
    "column_headers = (pickle.load(myfile)).values\n",
    "myfile.close()\n",
    "print len(column_headers)\n",
    "print column_headers\n",
    "\n",
    "myfile = open('pickles/DI.pkl', 'rb')\n",
    "X = pickle.load(myfile)\n",
    "myfile.close()\n",
    "print len(X), X.iloc[0].shape"
   ]
  },
  {
   "cell_type": "code",
   "execution_count": 9,
   "metadata": {
    "collapsed": false
   },
   "outputs": [
    {
     "name": "stdout",
     "output_type": "stream",
     "text": [
      "['11B', '11R', '26B', '30R', '36B', '45B']\n"
     ]
    }
   ],
   "source": [
    "trigger_spots = ['26B', '11R', '45B', '36B', '30R', '11B']\n",
    "trigger_spots.sort()\n",
    "print trigger_spots"
   ]
  },
  {
   "cell_type": "code",
   "execution_count": 4,
   "metadata": {
    "collapsed": false
   },
   "outputs": [
    {
     "data": {
      "text/plain": [
       "0    [[0.0, 0.0, 0.0, 0.0, 0.0, 0.0, 0.0, 0.0, 0.0,...\n",
       "1    [[0.0, 0.0, 0.0, 0.0, 0.0, 0.0, 0.0, 0.0, 0.0,...\n",
       "2    [[0.0, 0.0, 0.0, 0.0, 0.0, 0.0, 0.0, 0.0, 0.0,...\n",
       "3    [[0.0, 0.0, 0.0, 0.0, 0.0, 0.0, 0.0, 0.0, 0.0,...\n",
       "4    [[0.0, 0.0, 0.0, 0.0, 0.0, 0.0, 0.0, 0.0, 0.0,...\n",
       "Name: data, dtype: object"
      ]
     },
     "execution_count": 4,
     "metadata": {},
     "output_type": "execute_result"
    }
   ],
   "source": [
    "X.head()"
   ]
  },
  {
   "cell_type": "code",
   "execution_count": 15,
   "metadata": {
    "collapsed": false
   },
   "outputs": [
    {
     "name": "stdout",
     "output_type": "stream",
     "text": [
      "[0, 27, 25, 66, 76, 96, 123]\n",
      "['time' '11B' '11R' '26B' '30R' '36B' '45B']\n"
     ]
    }
   ],
   "source": [
    "trigger_indexes = [0] # the time index is kept\n",
    "for spot in trigger_spots:\n",
    "    trigger_indexes.append(np.argmax(column_headers == spot))\n",
    "print trigger_indexes\n",
    "print column_headers[trigger_indexes]"
   ]
  },
  {
   "cell_type": "code",
   "execution_count": 12,
   "metadata": {
    "collapsed": false
   },
   "outputs": [
    {
     "data": {
      "text/plain": [
       "27"
      ]
     },
     "execution_count": 12,
     "metadata": {},
     "output_type": "execute_result"
    }
   ],
   "source": [
    "np.argmax(column_headers == '11B')"
   ]
  },
  {
   "cell_type": "code",
   "execution_count": 22,
   "metadata": {
    "collapsed": false
   },
   "outputs": [
    {
     "name": "stdout",
     "output_type": "stream",
     "text": [
      "0    [[0.0, 0.0, 0.0, 0.0, 0.0, 0.0, 0.0, 0.0, 0.0,...\n",
      "1    [[0.0, 0.0, 0.0, 0.0, 0.0, 0.0, 0.0, 0.0, 0.0,...\n",
      "2    [[0.0, 0.0, 0.0, 0.0, 0.0, 0.0, 0.0, 0.0, 0.0,...\n",
      "3    [[0.0, 0.0, 0.0, 0.0, 0.0, 0.0, 0.0, 0.0, 0.0,...\n",
      "4    [[0.0, 0.0, 0.0, 0.0, 0.0, 0.0, 0.0, 0.0, 0.0,...\n",
      "Name: data, dtype: object\n",
      "(60, 220)\n",
      "0    [[0.0, 0.0, 0.0, 0.0, 0.0, 0.0, 0.0], [20.0, 0...\n",
      "1    [[0.0, 0.0, 0.0, 0.0, 0.0, 0.0, 0.0], [20.0, 0...\n",
      "2    [[0.0, 0.0, 0.0, 0.0, 0.0, 0.0, 0.0], [20.0, 0...\n",
      "3    [[0.0, 0.0, 0.0, 0.0, 0.0, 0.0, 0.0], [20.0, 0...\n",
      "4    [[0.0, 0.0, 0.0, 0.0, 0.0, 0.0, 0.0], [20.0, 0...\n",
      "Name: data, dtype: object\n",
      "0    [[0.0, 0.0, 0.0, 0.0, 0.0, 0.0, 0.0], [20.0, 0...\n",
      "1    [[0.0, 0.0, 0.0, 0.0, 0.0, 0.0, 0.0], [20.0, 0...\n",
      "2    [[0.0, 0.0, 0.0, 0.0, 0.0, 0.0, 0.0], [20.0, 0...\n",
      "3    [[0.0, 0.0, 0.0, 0.0, 0.0, 0.0, 0.0], [20.0, 0...\n",
      "4    [[0.0, 0.0, 0.0, 0.0, 0.0, 0.0, 0.0], [20.0, 0...\n",
      "Name: data, dtype: object\n",
      "(60, 7)\n",
      "0    [[0.0, 0.0, 0.0, 0.0, 0.0, 0.0, 0.0], [20.0, 0...\n",
      "1    [[0.0, 0.0, 0.0, 0.0, 0.0, 0.0, 0.0], [20.0, 0...\n",
      "2    [[0.0, 0.0, 0.0, 0.0, 0.0, 0.0, 0.0], [20.0, 0...\n",
      "3    [[0.0, 0.0, 0.0, 0.0, 0.0, 0.0, 0.0], [20.0, 0...\n",
      "4    [[0.0, 0.0, 0.0, 0.0, 0.0, 0.0, 0.0], [20.0, 0...\n",
      "Name: data, dtype: object\n",
      "[[   0.    0.    0.    0.    0.    0.    0.]\n",
      " [  20.    0.    0.    0.    0.    0.    0.]\n",
      " [  40.    0.    0.    0.    0.    0.    0.]\n",
      " [  60.    0.    0.    0.    0.    0.    0.]\n",
      " [  80.    0.    0.    0.    0.    0.    0.]\n",
      " [ 100.    0.    0.    0.    0.    0.    0.]\n",
      " [ 120.    0.    0.    0.    0.    0.    0.]\n",
      " [ 140.    0.    0.    0.    0.    0.    0.]\n",
      " [ 160.    0.    0.    0.    0.    0.    0.]\n",
      " [ 180.    0.    0.    0.    0.    0.    0.]\n",
      " [ 200.    1.   10.    2.   -5.    0.   -2.]\n",
      " [ 220.    1.    7.    2.   -3.   -1.   -8.]\n",
      " [ 240.    2.    8.    6.  -14.    0.  -15.]\n",
      " [ 260.    7.    7.    4.  -17.   -2.  -20.]\n",
      " [ 280.    9.    9.    8.  -16.   -6.  -28.]]\n"
     ]
    }
   ],
   "source": [
    "def array_slicer(x, trigger_indexes):\n",
    "    return x[:, trigger_indexes].tolist()\n",
    "\n",
    "def pd_slicer(X, trigger_indexes):\n",
    "    print X.head()\n",
    "    print X.iloc[0].shape\n",
    "    Z = X.apply(lambda x: array_slicer(x, trigger_indexes))\n",
    "    print Z.head()\n",
    "    ZZ = Z.apply(lambda x: np.array(x))\n",
    "    print ZZ.head()\n",
    "    print ZZ.iloc[0].shape\n",
    "    return ZZ\n",
    "\n",
    "Xs = pd_slicer(X, trigger_indexes)\n",
    "print Xs.head()\n",
    "print Xs.iloc[0][0:15]"
   ]
  },
  {
   "cell_type": "code",
   "execution_count": null,
   "metadata": {
    "collapsed": true
   },
   "outputs": [],
   "source": []
  }
 ],
 "metadata": {
  "kernelspec": {
   "display_name": "Python 2",
   "language": "python",
   "name": "python2"
  },
  "language_info": {
   "codemirror_mode": {
    "name": "ipython",
    "version": 2
   },
   "file_extension": ".py",
   "mimetype": "text/x-python",
   "name": "python",
   "nbconvert_exporter": "python",
   "pygments_lexer": "ipython2",
   "version": "2.7.11"
  }
 },
 "nbformat": 4,
 "nbformat_minor": 0
}
