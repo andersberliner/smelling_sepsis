{
 "cells": [
  {
   "cell_type": "code",
   "execution_count": 1,
   "metadata": {
    "collapsed": false
   },
   "outputs": [],
   "source": [
    "import numpy as np\n",
    "import pandas as pd\n",
    "import pickle\n",
    "import time"
   ]
  },
  {
   "cell_type": "code",
   "execution_count": 2,
   "metadata": {
    "collapsed": false
   },
   "outputs": [
    {
     "name": "stdout",
     "output_type": "stream",
     "text": [
      "0    [[0.0, 0.0, 0.0, 0.0, 0.0, 0.0, 0.0, 0.0, 0.0,...\n",
      "1    [[0.0, 0.0, 0.0, 0.0, 0.0, 0.0, 0.0, 0.0, 0.0,...\n",
      "2    [[0.0, 0.0, 0.0, 0.0, 0.0, 0.0, 0.0, 0.0, 0.0,...\n",
      "3    [[0.0, 0.0, 0.0, 0.0, 0.0, 0.0, 0.0, 0.0, 0.0,...\n",
      "4    [[0.0, 0.0, 0.0, 0.0, 0.0, 0.0, 0.0, 0.0, 0.0,...\n",
      "Name: data, dtype: object\n",
      "Index([u'time', u'2R', u'2G', u'2B', u'3R', u'3G', u'3B', u'4R', u'4G', u'4B',\n",
      "       ...\n",
      "       u'76B', u'77R', u'77G', u'77B', u'78R', u'78G', u'78B', u'79R', u'79G',\n",
      "       u'79B'],\n",
      "      dtype='object', length=220)\n",
      "           classification gram  detection\n",
      "0        Escherichia_coli    n          1\n",
      "1        Escherichia_coli    n          1\n",
      "2  Pseudomonas_aeruginosa    n          1\n",
      "3  Pseudomonas_aeruginosa    n          1\n",
      "4  Pseudomonas_aeruginosa    n          1\n"
     ]
    }
   ],
   "source": [
    "myfile = open('pickles/DI.pkl', 'rb')\n",
    "X = pickle.load(myfile)\n",
    "myfile.close()\n",
    "print X.head()\n",
    "\n",
    "myfile = open('pickles/used_column_headers.pkl', 'rb')\n",
    "column_headers = pickle.load(myfile)\n",
    "myfile.close()\n",
    "print column_headers\n",
    "\n",
    "myfile = open('pickles/ydf.pkl', 'rb')\n",
    "y = pickle.load(myfile)\n",
    "myfile.close()\n",
    "print y.head()"
   ]
  },
  {
   "cell_type": "code",
   "execution_count": 3,
   "metadata": {
    "collapsed": false
   },
   "outputs": [
    {
     "name": "stdout",
     "output_type": "stream",
     "text": [
      "Flattening\n",
      "Flattened 1078 trials in 74 secs\n"
     ]
    }
   ],
   "source": [
    "Ncolors = 3\n",
    "Nsamp = len(X)\n",
    "Ntimes = 60\n",
    "\n",
    "col_nums = list(set([int(x[:-1]) for x in column_headers[1:]]))\n",
    "Nspots = len(col_nums)\n",
    "\n",
    "tidxs = y.index.values\n",
    "\n",
    "# Convert series to frame\n",
    "Z = X.to_frame()\n",
    "\n",
    "# flatten arrays in data frame\n",
    "start = time.time()\n",
    "print 'Flattening'\n",
    "final = np.array(Z['data'].iloc[0])\n",
    "for i in xrange(1, Nsamp):\n",
    "    final = np.vstack((final, Z['data'].iloc[i]))\n",
    "    \n",
    "end = time.time()\n",
    "print 'Flattened %d trials in %d secs' % (Nsamp, (end-start))"
   ]
  },
  {
   "cell_type": "code",
   "execution_count": 4,
   "metadata": {
    "collapsed": false
   },
   "outputs": [
    {
     "name": "stdout",
     "output_type": "stream",
     "text": [
      "(114771, 220) 64680 220\n"
     ]
    }
   ],
   "source": [
    "print final.shape, Nsamp*Ntimes, 1+Ncolors*Nspots"
   ]
  },
  {
   "cell_type": "code",
   "execution_count": 5,
   "metadata": {
    "collapsed": true
   },
   "outputs": [],
   "source": [
    "data = final[:,1:]"
   ]
  },
  {
   "cell_type": "code",
   "execution_count": 6,
   "metadata": {
    "collapsed": false
   },
   "outputs": [
    {
     "ename": "ValueError",
     "evalue": "total size of new array must be unchanged",
     "output_type": "error",
     "traceback": [
      "\u001b[0;31m---------------------------------------------------------------------------\u001b[0m",
      "\u001b[0;31mValueError\u001b[0m                                Traceback (most recent call last)",
      "\u001b[0;32m<ipython-input-6-24cd32727515>\u001b[0m in \u001b[0;36m<module>\u001b[0;34m()\u001b[0m\n\u001b[0;32m----> 1\u001b[0;31m \u001b[0mdata\u001b[0m \u001b[0;34m=\u001b[0m \u001b[0mdata\u001b[0m\u001b[0;34m.\u001b[0m\u001b[0mreshape\u001b[0m\u001b[0;34m(\u001b[0m\u001b[0;34m(\u001b[0m\u001b[0mNtimes\u001b[0m\u001b[0;34m*\u001b[0m\u001b[0mNsamp\u001b[0m\u001b[0;34m*\u001b[0m\u001b[0mNspots\u001b[0m\u001b[0;34m,\u001b[0m\u001b[0;36m3\u001b[0m\u001b[0;34m)\u001b[0m\u001b[0;34m)\u001b[0m\u001b[0;34m\u001b[0m\u001b[0m\n\u001b[0m\u001b[1;32m      2\u001b[0m \u001b[0;32mprint\u001b[0m \u001b[0mdata\u001b[0m\u001b[0;34m.\u001b[0m\u001b[0mshape\u001b[0m\u001b[0;34m,\u001b[0m \u001b[0mNtimes\u001b[0m\u001b[0;34m*\u001b[0m\u001b[0mNsamp\u001b[0m\u001b[0;34m,\u001b[0m \u001b[0mNtimes\u001b[0m\u001b[0;34m*\u001b[0m\u001b[0mNsamp\u001b[0m\u001b[0;34m*\u001b[0m\u001b[0mNspots\u001b[0m\u001b[0;34m\u001b[0m\u001b[0m\n",
      "\u001b[0;31mValueError\u001b[0m: total size of new array must be unchanged"
     ]
    }
   ],
   "source": [
    "data = data.reshape((Ntimes*Nsamp*Nspots,3))\n",
    "print data.shape, Ntimes*Nsamp, Ntimes*Nsamp*Nspots"
   ]
  },
  {
   "cell_type": "code",
   "execution_count": null,
   "metadata": {
    "collapsed": false
   },
   "outputs": [],
   "source": [
    "df = pd.DataFrame(data=data, columns=['R', 'G', 'B'])\n",
    "df.head()"
   ]
  },
  {
   "cell_type": "code",
   "execution_count": null,
   "metadata": {
    "collapsed": false
   },
   "outputs": [],
   "source": [
    "df['spot'] = np.array([x for x in col_nums]*(Nsamp*Ntimes)).flatten()\n",
    "df.head()"
   ]
  },
  {
   "cell_type": "code",
   "execution_count": null,
   "metadata": {
    "collapsed": false
   },
   "outputs": [],
   "source": [
    "df['trial'] = np.array([[x]*(Ntimes*Nspots) for x in tidxs]).flatten()\n",
    "df['detection'] = np.array([[y.ix[tidxs[x]]['detection']]*(Ntimes*Nspots) for x in range(Nsamp)]).flatten()\n",
    "df['gram'] = np.array([[y.ix[tidxs[x]]['gram']]*(Ntimes*Nspots) for x in range(Nsamp)]).flatten()\n",
    "df['classification'] = np.array([[y.ix[tidxs[x]]['classification']]*(Ntimes*Nspots) for x in range(Nsamp)]).flatten()\n",
    "df.head()"
   ]
  },
  {
   "cell_type": "code",
   "execution_count": null,
   "metadata": {
    "collapsed": false
   },
   "outputs": [],
   "source": [
    "df['time'] = np.array([[[20*x]*Nspots for x in range(Ntimes)]*Nsamp]).flatten()\n",
    "df.head()\n",
    "df.iloc[72:75]"
   ]
  },
  {
   "cell_type": "code",
   "execution_count": null,
   "metadata": {
    "collapsed": true
   },
   "outputs": [],
   "source": [
    "# Experiment with time re-scaling\n",
    "newdf = pd.DataFrame(final)"
   ]
  },
  {
   "cell_type": "code",
   "execution_count": null,
   "metadata": {
    "collapsed": false
   },
   "outputs": [],
   "source": [
    "newdf.columns = column_headers\n",
    "newdf.head()"
   ]
  },
  {
   "cell_type": "code",
   "execution_count": null,
   "metadata": {
    "collapsed": false
   },
   "outputs": [],
   "source": [
    "print len(newdf), Nsamp*Ntimes"
   ]
  },
  {
   "cell_type": "code",
   "execution_count": null,
   "metadata": {
    "collapsed": false
   },
   "outputs": [],
   "source": [
    "# trial index\n",
    "newdf['trial'] = np.array([[x]*(Ntimes) for x in tidxs]).flatten()\n",
    "newdf['detection'] = np.array([[y.ix[tidxs[x]]['detection']]*(Ntimes) for x in range(Nsamp)]).flatten()\n",
    "newdf['gram'] = np.array([[y.ix[tidxs[x]]['gram']]*(Ntimes) for x in range(Nsamp)]).flatten()\n",
    "newdf['classification'] = np.array([[y.ix[tidxs[x]]['classification']]*(Ntimes) for x in range(Nsamp)]).flatten()\n",
    "newdf.head()"
   ]
  },
  {
   "cell_type": "code",
   "execution_count": null,
   "metadata": {
    "collapsed": false
   },
   "outputs": [],
   "source": [
    "Z = X.to_frame()\n",
    "Z['trial'] = y.index.values\n",
    "Z.head()"
   ]
  },
  {
   "cell_type": "code",
   "execution_count": null,
   "metadata": {
    "collapsed": false
   },
   "outputs": [],
   "source": [
    "# randomly assign a trigger time\n",
    "# assume it varies around 18 - 6 hours - with variance 9 - 3 hours\n",
    "triggers = 18 + np.random.randn(len(Z))*5\n",
    "# this would be calculated...\n",
    "Z['trigger'] = triggers\n",
    "Z.head()"
   ]
  },
  {
   "cell_type": "markdown",
   "metadata": {},
   "source": [
    "## Assuming trigger is known, how to I rearrange this? ##"
   ]
  },
  {
   "cell_type": "code",
   "execution_count": 145,
   "metadata": {
    "collapsed": false
   },
   "outputs": [
    {
     "data": {
      "text/html": [
       "<div>\n",
       "<table border=\"1\" class=\"dataframe\">\n",
       "  <thead>\n",
       "    <tr style=\"text-align: right;\">\n",
       "      <th></th>\n",
       "      <th>data</th>\n",
       "      <th>trial</th>\n",
       "      <th>trigger</th>\n",
       "    </tr>\n",
       "  </thead>\n",
       "  <tbody>\n",
       "    <tr>\n",
       "      <th>0</th>\n",
       "      <td>[[0.0, 0.0, 0.0, 0.0, 0.0, 0.0, 0.0, 0.0, 0.0,...</td>\n",
       "      <td>0</td>\n",
       "      <td>19.688072</td>\n",
       "    </tr>\n",
       "    <tr>\n",
       "      <th>1</th>\n",
       "      <td>[[0.0, 0.0, 0.0, 0.0, 0.0, 0.0, 0.0, 0.0, 0.0,...</td>\n",
       "      <td>1</td>\n",
       "      <td>22.185134</td>\n",
       "    </tr>\n",
       "    <tr>\n",
       "      <th>2</th>\n",
       "      <td>[[0.0, 0.0, 0.0, 0.0, 0.0, 0.0, 0.0, 0.0, 0.0,...</td>\n",
       "      <td>2</td>\n",
       "      <td>15.028030</td>\n",
       "    </tr>\n",
       "  </tbody>\n",
       "</table>\n",
       "</div>"
      ],
      "text/plain": [
       "                                                data  trial    trigger\n",
       "0  [[0.0, 0.0, 0.0, 0.0, 0.0, 0.0, 0.0, 0.0, 0.0,...      0  19.688072\n",
       "1  [[0.0, 0.0, 0.0, 0.0, 0.0, 0.0, 0.0, 0.0, 0.0,...      1  22.185134\n",
       "2  [[0.0, 0.0, 0.0, 0.0, 0.0, 0.0, 0.0, 0.0, 0.0,...      2  15.028030"
      ]
     },
     "execution_count": 145,
     "metadata": {},
     "output_type": "execute_result"
    }
   ],
   "source": [
    "# rescale the t axis\n",
    "# Z['data2'] = Z.apply(lambda x: (x['trigger'] - x['data'][:,0])/20*20, axis=1)\n",
    "a = Z.iloc[0:3]\n",
    "\n",
    "a.head()"
   ]
  },
  {
   "cell_type": "code",
   "execution_count": 141,
   "metadata": {
    "collapsed": false
   },
   "outputs": [
    {
     "name": "stdout",
     "output_type": "stream",
     "text": [
      "                                                data  trial    trigger\n",
      "0  [[0.0, 0.0, 0.0, 0.0, 0.0, 0.0, 0.0, 0.0, 0.0,...      0  19.688072\n",
      "1  [[0.0, 0.0, 0.0, 0.0, 0.0, 0.0, 0.0, 0.0, 0.0,...      1  22.185134\n",
      "2  [[0.0, 0.0, 0.0, 0.0, 0.0, 0.0, 0.0, 0.0, 0.0,...      2  15.028030\n"
     ]
    },
    {
     "ename": "TypeError",
     "evalue": "'int' object has no attribute '__getitem__'",
     "output_type": "error",
     "traceback": [
      "\u001b[0;31m---------------------------------------------------------------------------\u001b[0m",
      "\u001b[0;31mTypeError\u001b[0m                                 Traceback (most recent call last)",
      "\u001b[0;32m<ipython-input-141-f1158138c97c>\u001b[0m in \u001b[0;36m<module>\u001b[0;34m()\u001b[0m\n\u001b[1;32m      3\u001b[0m \u001b[0;32mprint\u001b[0m \u001b[0ma\u001b[0m\u001b[0;34m.\u001b[0m\u001b[0mhead\u001b[0m\u001b[0;34m(\u001b[0m\u001b[0;34m)\u001b[0m\u001b[0;34m\u001b[0m\u001b[0m\n\u001b[1;32m      4\u001b[0m \u001b[0;34m\u001b[0m\u001b[0m\n\u001b[0;32m----> 5\u001b[0;31m \u001b[0ma\u001b[0m\u001b[0;34m[\u001b[0m\u001b[0;34m'data3'\u001b[0m\u001b[0;34m]\u001b[0m \u001b[0;34m=\u001b[0m \u001b[0mhstacker\u001b[0m\u001b[0;34m(\u001b[0m\u001b[0mx\u001b[0m\u001b[0;34m[\u001b[0m\u001b[0;34m'data'\u001b[0m\u001b[0;34m]\u001b[0m\u001b[0;34m,\u001b[0m \u001b[0mx\u001b[0m\u001b[0;34m[\u001b[0m\u001b[0;34m'trigger'\u001b[0m\u001b[0;34m]\u001b[0m\u001b[0;34m)\u001b[0m\u001b[0;34m\u001b[0m\u001b[0m\n\u001b[0m\u001b[1;32m      6\u001b[0m \u001b[0;31m# a['data2'] = (-a['trigger'] + a['data'][:,0])\u001b[0m\u001b[0;34m\u001b[0m\u001b[0;34m\u001b[0m\u001b[0m\n\u001b[1;32m      7\u001b[0m \u001b[0;31m# a['data3'] = a.apply(lambda x: np.hstack((a['data3'].reshape(-1,1), x['data'][:,1:])))\u001b[0m\u001b[0;34m\u001b[0m\u001b[0;34m\u001b[0m\u001b[0m\n",
      "\u001b[0;31mTypeError\u001b[0m: 'int' object has no attribute '__getitem__'"
     ]
    }
   ],
   "source": [
    "def hstacker(x, trigger):\n",
    "    return np.hstack(((x[:,0]-trigger*np.ones(x.shape[1])).reshape(-1,1), x[:,1:]))\n",
    "print a.head()\n",
    "\n",
    "a['data3'] = hstacker(x['data'], x['trigger'])\n",
    "# a['data2'] = (-a['trigger'] + a['data'][:,0])\n",
    "# a['data3'] = a.apply(lambda x: np.hstack((a['data3'].reshape(-1,1), x['data'][:,1:])))"
   ]
  },
  {
   "cell_type": "code",
   "execution_count": 155,
   "metadata": {
    "collapsed": false
   },
   "outputs": [
    {
     "name": "stdout",
     "output_type": "stream",
     "text": [
      "3\n"
     ]
    }
   ],
   "source": [
    "b = [np.hstack(((x[:,0] - trigger*np.ones(Ntimes)).reshape(-1,1),x[:,1:])) for x, trigger in zip(a['data'].values, a['trigger'].values)]\n",
    "print len(b)"
   ]
  },
  {
   "cell_type": "code",
   "execution_count": 128,
   "metadata": {
    "collapsed": false
   },
   "outputs": [
    {
     "data": {
      "text/plain": [
       "array([[ -150.,     0.,     0., ...,     0.,     0.,     0.],\n",
       "       [ -130.,     0.,     0., ...,     0.,     0.,     0.],\n",
       "       [ -110.,     0.,     0., ...,     0.,     0.,     0.],\n",
       "       ..., \n",
       "       [  990.,   -28.,  -112., ...,   -20.,   -18.,   -24.],\n",
       "       [ 1010.,   -35.,  -119., ...,   -20.,   -18.,   -25.],\n",
       "       [ 1030.,   -31.,  -116., ...,   -22.,   -14.,   -29.]])"
      ]
     },
     "execution_count": 128,
     "metadata": {},
     "output_type": "execute_result"
    }
   ],
   "source": [
    "b = np.hstack(((b[:,0]-150).reshape(-1,1), b[:,1:]))\n",
    "b"
   ]
  },
  {
   "cell_type": "code",
   "execution_count": 125,
   "metadata": {
    "collapsed": false
   },
   "outputs": [
    {
     "data": {
      "text/plain": [
       "19.688071950091054"
      ]
     },
     "execution_count": 125,
     "metadata": {},
     "output_type": "execute_result"
    }
   ],
   "source": [
    "d = np.array([[1,2,3],[4,5,6],[7,8,9],[10,11,12]])\n",
    "triggers[0]"
   ]
  },
  {
   "cell_type": "code",
   "execution_count": 122,
   "metadata": {
    "collapsed": false
   },
   "outputs": [
    {
     "name": "stdout",
     "output_type": "stream",
     "text": [
      "[[ 1  2  3]\n",
      " [ 4  5  6]\n",
      " [ 7  8  9]\n",
      " [10 11 12]]\n"
     ]
    },
    {
     "data": {
      "text/plain": [
       "array([[ 2,  3,  1],\n",
       "       [ 5,  6,  4],\n",
       "       [ 8,  9,  7],\n",
       "       [11, 12, 10]])"
      ]
     },
     "execution_count": 122,
     "metadata": {},
     "output_type": "execute_result"
    }
   ],
   "source": [
    "print d\n",
    "np.hstack((d[:,1:], d[:,0].reshape(-1,1)))"
   ]
  },
  {
   "cell_type": "code",
   "execution_count": 119,
   "metadata": {
    "collapsed": false
   },
   "outputs": [
    {
     "data": {
      "text/plain": [
       "array([[ 2,  3],\n",
       "       [ 5,  6],\n",
       "       [ 8,  9],\n",
       "       [11, 12]])"
      ]
     },
     "execution_count": 119,
     "metadata": {},
     "output_type": "execute_result"
    }
   ],
   "source": [
    "d[:,1:]"
   ]
  },
  {
   "cell_type": "code",
   "execution_count": 121,
   "metadata": {
    "collapsed": false
   },
   "outputs": [
    {
     "data": {
      "text/plain": [
       "array([[ 1],\n",
       "       [ 4],\n",
       "       [ 7],\n",
       "       [10]])"
      ]
     },
     "execution_count": 121,
     "metadata": {},
     "output_type": "execute_result"
    }
   ],
   "source": [
    "d[:,0].reshape(-1,1)"
   ]
  },
  {
   "cell_type": "code",
   "execution_count": null,
   "metadata": {
    "collapsed": true
   },
   "outputs": [],
   "source": []
  }
 ],
 "metadata": {
  "kernelspec": {
   "display_name": "Python 2",
   "language": "python",
   "name": "python2"
  },
  "language_info": {
   "codemirror_mode": {
    "name": "ipython",
    "version": 2
   },
   "file_extension": ".py",
   "mimetype": "text/x-python",
   "name": "python",
   "nbconvert_exporter": "python",
   "pygments_lexer": "ipython2",
   "version": "2.7.11"
  }
 },
 "nbformat": 4,
 "nbformat_minor": 0
}
