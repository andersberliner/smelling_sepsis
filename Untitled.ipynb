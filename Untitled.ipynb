{
 "cells": [
  {
   "cell_type": "code",
   "execution_count": 4,
   "metadata": {
    "collapsed": true
   },
   "outputs": [],
   "source": [
    "# Debugging output and multiclass metrics\n",
    "from sklearn.metrics import confusion_matrix, classification_report\n",
    "from sklearn.metrics import accuracy_score, precision_score, recall_score, f1_score\n",
    "from itertools import izip\n",
    "import numpy as np\n",
    "import pandas as pd\n",
    "import pickle\n",
    "from seriesmodel import SeriesModel"
   ]
  },
  {
   "cell_type": "code",
   "execution_count": 10,
   "metadata": {
    "collapsed": false
   },
   "outputs": [],
   "source": [
    "def po(fn):\n",
    "    with open ('run010/%s' % fn) as f:\n",
    "        data = pickle.load(f)\n",
    "    return data\n",
    "\n",
    "DI = po('DI.pkl')\n",
    "DI.head()\n",
    "sm = SeriesModel(reference_time=9, min_time=1)\n",
    "DI = sm._subset_data(DI, 15)"
   ]
  },
  {
   "cell_type": "code",
   "execution_count": 11,
   "metadata": {
    "collapsed": false
   },
   "outputs": [
    {
     "name": "stdout",
     "output_type": "stream",
     "text": [
      "Featurizing trial 0\n",
      "Featurizing trial 100\n",
      "Featurizing trial 200\n",
      "Featurizing trial 300\n",
      "Featurizing trial 400\n",
      "Featurizing trial 500\n",
      "Featurizing trial 600\n",
      "Featurizing trial 700\n",
      "Featurizing trial 800\n",
      "Featurizing trial 900\n",
      "Featurizing trial 1000\n",
      "Regressed 1078 trials, n=4 in 80 seconds\n"
     ]
    }
   ],
   "source": [
    "from featurizer import PolynomialFeaturizer\n",
    "pf = PolynomialFeaturizer(reference_time = 9)\n",
    "coefs, scores = pf.fit_transform(DI)"
   ]
  },
  {
   "cell_type": "code",
   "execution_count": 12,
   "metadata": {
    "collapsed": true
   },
   "outputs": [],
   "source": [
    "DIfit = pf.predict(DI, coefs)"
   ]
  },
  {
   "cell_type": "code",
   "execution_count": 15,
   "metadata": {
    "collapsed": false
   },
   "outputs": [
    {
     "data": {
      "text/plain": [
       "25"
      ]
     },
     "execution_count": 15,
     "metadata": {},
     "output_type": "execute_result"
    }
   ],
   "source": [
    "import matplotlib.pyplot as plt\n",
    "%matplotlib inline\n",
    "# spot 11R\n",
    "with open('used_column_headers.pkl') as f:\n",
    "    ch = pickle.load(f)\n",
    "\n",
    "list(ch.values).index('11R')"
   ]
  },
  {
   "cell_type": "code",
   "execution_count": 17,
   "metadata": {
    "collapsed": false
   },
   "outputs": [
    {
     "name": "stdout",
     "output_type": "stream",
     "text": [
      "(15, 220) (15, 220)\n"
     ]
    }
   ],
   "source": [
    "A = DI.iloc[0]\n",
    "Ap = DIfit.iloc[0]\n",
    "print A.shape, Ap.shape"
   ]
  },
  {
   "cell_type": "code",
   "execution_count": 19,
   "metadata": {
    "collapsed": false
   },
   "outputs": [
    {
     "name": "stdout",
     "output_type": "stream",
     "text": [
      "(5, 219)\n"
     ]
    }
   ],
   "source": [
    "Ac = coefs.iloc[0]\n",
    "print Ac.shape"
   ]
  },
  {
   "cell_type": "code",
   "execution_count": 24,
   "metadata": {
    "collapsed": false
   },
   "outputs": [
    {
     "data": {
      "text/plain": [
       "[<matplotlib.lines.Line2D at 0x10c8425d0>]"
      ]
     },
     "execution_count": 24,
     "metadata": {},
     "output_type": "execute_result"
    },
    {
     "data": {
      "image/png": "[encoded data removed]",
      "text/plain": [
       "<matplotlib.figure.Figure at 0x10c842350>"
      ]
     },
     "metadata": {},
     "output_type": "display_data"
    }
   ],
   "source": [
    "plt.plot(A[:,0], A[:,28], 'ko')\n",
    "plt.plot(A[:,0], Ap[:,28], 'g')"
   ]
  },
  {
   "cell_type": "code",
   "execution_count": 25,
   "metadata": {
    "collapsed": false
   },
   "outputs": [
    {
     "data": {
      "text/plain": [
       "array([[ True,  True,  True, ...,  True,  True,  True],\n",
       "       [ True,  True,  True, ...,  True,  True,  True],\n",
       "       [ True,  True,  True, ...,  True,  True,  True],\n",
       "       ..., \n",
       "       [ True,  True,  True, ...,  True,  True,  True],\n",
       "       [ True,  True,  True, ...,  True,  True,  True],\n",
       "       [ True,  True,  True, ...,  True,  True,  True]], dtype=bool)"
      ]
     },
     "execution_count": 25,
     "metadata": {},
     "output_type": "execute_result"
    }
   ],
   "source": [
    "A == Ap"
   ]
  },
  {
   "cell_type": "code",
   "execution_count": 31,
   "metadata": {
    "collapsed": false
   },
   "outputs": [],
   "source": [
    "t = A[:,0].copy()"
   ]
  },
  {
   "cell_type": "code",
   "execution_count": 32,
   "metadata": {
    "collapsed": false
   },
   "outputs": [],
   "source": [
    "b = Ac[:,25].copy()"
   ]
  },
  {
   "cell_type": "code",
   "execution_count": 33,
   "metadata": {
    "collapsed": false
   },
   "outputs": [
    {
     "data": {
      "text/plain": [
       "array([   0.,   20.,   40.,   60.,   80.,  100.,  120.,  140.,  160.,\n",
       "        180.,  200.,  220.,  240.,  260.,  280.])"
      ]
     },
     "execution_count": 33,
     "metadata": {},
     "output_type": "execute_result"
    }
   ],
   "source": [
    "t"
   ]
  },
  {
   "cell_type": "code",
   "execution_count": 34,
   "metadata": {
    "collapsed": false
   },
   "outputs": [
    {
     "data": {
      "text/plain": [
       "array([ -8.93328117e+03,   1.51466314e+02,  -9.53522887e-01,\n",
       "         2.64640801e-03,  -2.73437075e-06])"
      ]
     },
     "execution_count": 34,
     "metadata": {},
     "output_type": "execute_result"
    }
   ],
   "source": [
    "b"
   ]
  },
  {
   "cell_type": "code",
   "execution_count": 38,
   "metadata": {
    "collapsed": false
   },
   "outputs": [
    {
     "name": "stdout",
     "output_type": "stream",
     "text": [
      "[  0.           0.           0.           0.           0.           0.           0.\n",
      "   0.           0.          -0.06767513  15.33707029  12.32516779\n",
      "   7.67437324   7.66245883   8.06721308]\n"
     ]
    }
   ],
   "source": [
    "new = b[0] + t*b[1] + t**2*b[2] + t**3*b[3] + t**4*b[4]\n",
    "new[:9] = 0\n",
    "print new"
   ]
  },
  {
   "cell_type": "code",
   "execution_count": 36,
   "metadata": {
    "collapsed": false
   },
   "outputs": [
    {
     "data": {
      "text/plain": [
       "array([ 0.        ,  0.        ,  0.        ,  0.        ,  0.        ,\n",
       "        0.        ,  0.        ,  0.        ,  0.        ,  0.13479845,\n",
       "        9.32526585,  8.34907599,  6.65066275,  7.67446744,  8.8649388 ])"
      ]
     },
     "execution_count": 36,
     "metadata": {},
     "output_type": "execute_result"
    }
   ],
   "source": [
    "A[:,25]"
   ]
  },
  {
   "cell_type": "code",
   "execution_count": 39,
   "metadata": {
    "collapsed": false
   },
   "outputs": [
    {
     "data": {
      "text/plain": [
       "array([ 0.        ,  0.        ,  0.        ,  0.        ,  0.        ,\n",
       "        0.        ,  0.        ,  0.        ,  0.        ,  0.13479845,\n",
       "        9.32526585,  8.34907599,  6.65066275,  7.67446744,  8.8649388 ])"
      ]
     },
     "execution_count": 39,
     "metadata": {},
     "output_type": "execute_result"
    }
   ],
   "source": [
    "Ap[:,25]"
   ]
  },
  {
   "cell_type": "code",
   "execution_count": 40,
   "metadata": {
    "collapsed": true
   },
   "outputs": [],
   "source": [
    "f15 = po('features_t_15.pkl')"
   ]
  },
  {
   "cell_type": "code",
   "execution_count": 49,
   "metadata": {
    "collapsed": false
   },
   "outputs": [
    {
     "name": "stdout",
     "output_type": "stream",
     "text": [
      "[   5.41366387  -44.09369884   92.87128958 -189.49241206 -244.32642929\n",
      " -197.18410136   -5.25862916  -27.02325917  110.94030725   81.6012529\n",
      "  -64.24966124  275.93509628  172.10896168  -76.18709064  -66.34073929\n",
      " -150.17386844   12.16634655  -17.80039901 -101.39501897   76.01905756]\n",
      "219 1095\n",
      "[-11249.71485183  -5259.82928585 -14400.58946022  -1491.29490644\n",
      "   2259.43383066  -1115.22682117   1513.61116426    188.76219976\n",
      "  -2291.93204871   3261.33506237    201.87395422  -5897.68396735\n",
      "  13160.40947222  -3612.2649765   -1758.77950357 -11722.53727644\n",
      "  -4379.35171949  -2175.16437834   7662.05400301   7024.98122193]\n"
     ]
    }
   ],
   "source": [
    "print f15['classification'][0][5*24*3:5*25*3+5]\n",
    "print f15['classification'][0].shape[0]/5, f15['classification'][0].shape[0]\n",
    "print f15['classification'][0][0:20]"
   ]
  },
  {
   "cell_type": "code",
   "execution_count": 57,
   "metadata": {
    "collapsed": false
   },
   "outputs": [
    {
     "data": {
      "text/plain": [
       "array([[ -1.12497149e+04,  -5.25982929e+03,  -1.44005895e+04,\n",
       "         -1.49129491e+03,   2.25943383e+03,  -1.11522682e+03,\n",
       "          1.51361116e+03,   1.88762200e+02,  -2.29193205e+03,\n",
       "          3.26133506e+03,   2.01873954e+02,  -5.89768397e+03,\n",
       "          1.31604095e+04,  -3.61226498e+03,  -1.75877950e+03,\n",
       "         -1.17225373e+04,  -4.37935172e+03,  -2.17516438e+03,\n",
       "          7.66205400e+03,   7.02498122e+03],\n",
       "       [  1.94360775e+02,   9.06485403e+01,   2.55439433e+02,\n",
       "          2.50748905e+01,  -4.10027968e+01,   1.92943191e+01,\n",
       "         -2.82606495e+01,  -5.28671169e+00,   3.98694317e+01,\n",
       "         -6.08549167e+01,  -2.40987126e+00,   1.08253854e+02,\n",
       "         -2.34812758e+02,   6.07805359e+01,   3.45933422e+01,\n",
       "          2.10161251e+02,   7.87427617e+01,   3.68346820e+01,\n",
       "         -1.36555322e+02,  -1.23226727e+02],\n",
       "       [ -1.24277604e+00,  -5.78593305e-01,  -1.68720240e+00,\n",
       "         -1.53836963e-01,   2.76753171e-01,  -1.25016974e-01,\n",
       "          1.94704878e-01,   4.94792034e-02,  -2.57742543e-01,\n",
       "          4.20502761e-01,   9.23622276e-03,  -7.38280521e-01,\n",
       "          1.55739366e+00,  -3.77846670e-01,  -2.49947196e-01,\n",
       "         -1.39711597e+00,  -5.25884805e-01,  -2.31093493e-01,\n",
       "          9.04547540e-01,   8.03766126e-01],\n",
       "       [  3.49073581e-03,   1.62326266e-03,   4.91955318e-03,\n",
       "          4.06829181e-04,  -8.23494521e-04,   3.60531292e-04,\n",
       "         -5.86226920e-04,  -1.90972333e-04,   7.34952238e-04,\n",
       "         -1.27488223e-03,  -1.15744016e-05,   2.21701184e-03,\n",
       "         -4.55207717e-03,   1.03009102e-03,   7.86456255e-04,\n",
       "          4.08217000e-03,   1.54687327e-03,   6.37152055e-04,\n",
       "         -2.64004327e-03,  -2.31191778e-03],\n",
       "       [ -3.64582814e-06,  -1.69270707e-06,  -5.33853427e-06,\n",
       "         -3.90625537e-07,   9.11457444e-07,  -3.90623805e-07,\n",
       "          6.51041763e-07,   2.60416791e-07,  -7.81248441e-07,\n",
       "          1.43228951e-06,   3.57264605e-13,  -2.47395619e-06,\n",
       "          4.94791017e-06,  -1.04166501e-06,  -9.11456106e-07,\n",
       "         -4.42707707e-06,  -1.69270652e-06,  -6.51040911e-07,\n",
       "          2.86458016e-06,   2.47395462e-06]])"
      ]
     },
     "execution_count": 57,
     "metadata": {},
     "output_type": "execute_result"
    }
   ],
   "source": [
    "coefs.iloc[0][:,0:20]"
   ]
  },
  {
   "cell_type": "code",
   "execution_count": null,
   "metadata": {
    "collapsed": true
   },
   "outputs": [],
   "source": []
  }
 ],
 "metadata": {
  "kernelspec": {
   "display_name": "Python 2",
   "language": "python",
   "name": "python2"
  },
  "language_info": {
   "codemirror_mode": {
    "name": "ipython",
    "version": 2
   },
   "file_extension": ".py",
   "mimetype": "text/x-python",
   "name": "python",
   "nbconvert_exporter": "python",
   "pygments_lexer": "ipython2",
   "version": "2.7.11"
  }
 },
 "nbformat": 4,
 "nbformat_minor": 0
}
